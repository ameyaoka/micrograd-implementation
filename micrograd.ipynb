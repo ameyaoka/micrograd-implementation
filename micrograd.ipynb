{
  "nbformat": 4,
  "nbformat_minor": 0,
  "metadata": {
    "colab": {
      "provenance": [],
      "authorship_tag": "ABX9TyM4Yhmp6NhBadSphr6avE8L",
      "include_colab_link": true
    },
    "kernelspec": {
      "name": "python3",
      "display_name": "Python 3"
    },
    "language_info": {
      "name": "python"
    }
  },
  "cells": [
    {
      "cell_type": "markdown",
      "metadata": {
        "id": "view-in-github",
        "colab_type": "text"
      },
      "source": [
        "<a href=\"https://colab.research.google.com/github/ameyaoka/micrograd-implementation/blob/main/micrograd.ipynb\" target=\"_parent\"><img src=\"https://colab.research.google.com/assets/colab-badge.svg\" alt=\"Open In Colab\"/></a>"
      ]
    },
    {
      "cell_type": "markdown",
      "source": [
        "# Micrograd "
      ],
      "metadata": {
        "id": "qy_W6ycsHljj"
      }
    },
    {
      "cell_type": "code",
      "source": [
        "import math\n",
        "import numpy as np \n",
        "import matplotlib.pyplot as plt\n",
        "%matplotlib inline\n"
      ],
      "metadata": {
        "id": "x_Rd3sldIsT7"
      },
      "execution_count": 1,
      "outputs": []
    },
    {
      "cell_type": "code",
      "source": [
        "def f(x):\n",
        "  return 3*x**2 -4*x + 5"
      ],
      "metadata": {
        "id": "YLm3XtCEKBVb"
      },
      "execution_count": 2,
      "outputs": []
    },
    {
      "cell_type": "code",
      "source": [
        "f(3.0)"
      ],
      "metadata": {
        "colab": {
          "base_uri": "https://localhost:8080/"
        },
        "id": "BSa1shKjKcGZ",
        "outputId": "6d5bd5f7-3804-4d35-ce40-f67ca07ded36"
      },
      "execution_count": 3,
      "outputs": [
        {
          "output_type": "execute_result",
          "data": {
            "text/plain": [
              "20.0"
            ]
          },
          "metadata": {},
          "execution_count": 3
        }
      ]
    },
    {
      "cell_type": "code",
      "source": [
        "xs = np.arange(-5,5,0.25)\n",
        "ys=  f(xs)\n",
        "plt.plot(xs,ys)"
      ],
      "metadata": {
        "colab": {
          "base_uri": "https://localhost:8080/",
          "height": 447
        },
        "id": "RibV16AHKe3T",
        "outputId": "6056b004-a3b2-4f0e-ea1a-2b6d4fbe3c00"
      },
      "execution_count": 4,
      "outputs": [
        {
          "output_type": "execute_result",
          "data": {
            "text/plain": [
              "[<matplotlib.lines.Line2D at 0x7f7db8114280>]"
            ]
          },
          "metadata": {},
          "execution_count": 4
        },
        {
          "output_type": "display_data",
          "data": {
            "text/plain": [
              "<Figure size 640x480 with 1 Axes>"
            ],
            "image/png": "[encoded data removed]"
          },
          "metadata": {}
        }
      ]
    },
    {
      "cell_type": "markdown",
      "source": [
        "- **Slope**"
      ],
      "metadata": {
        "id": "IR8Bgv6-LhtV"
      }
    },
    {
      "cell_type": "code",
      "source": [
        "h = 0.00001\n",
        "x= 3.0 \n",
        "(f(x+h) - f(x))/h"
      ],
      "metadata": {
        "colab": {
          "base_uri": "https://localhost:8080/"
        },
        "id": "5FOipFQ9K41k",
        "outputId": "1c20f450-5c05-404a-82ac-54a3e1e7303d"
      },
      "execution_count": 5,
      "outputs": [
        {
          "output_type": "execute_result",
          "data": {
            "text/plain": [
              "14.00003000000538"
            ]
          },
          "metadata": {},
          "execution_count": 5
        }
      ]
    },
    {
      "cell_type": "code",
      "source": [
        "\n",
        "h = 0.00001\n",
        "x= -3.0 \n",
        "(f(x+h) - f(x))/h"
      ],
      "metadata": {
        "colab": {
          "base_uri": "https://localhost:8080/"
        },
        "id": "cF142CDiLNsJ",
        "outputId": "50642921-5eaf-4bc6-8d78-ed2cf7a50052"
      },
      "execution_count": 6,
      "outputs": [
        {
          "output_type": "execute_result",
          "data": {
            "text/plain": [
              "-21.999970000052823"
            ]
          },
          "metadata": {},
          "execution_count": 6
        }
      ]
    },
    {
      "cell_type": "code",
      "source": [
        "a = 2.0\n",
        "b = -3.0\n",
        "c = 10.0\n",
        "d = a*b + c\n",
        "print(d)\n",
        "\n"
      ],
      "metadata": {
        "colab": {
          "base_uri": "https://localhost:8080/"
        },
        "id": "k8OmezW5L3Q1",
        "outputId": "f4775e8a-448a-4fa0-d123-9f70c66d93d9"
      },
      "execution_count": 7,
      "outputs": [
        {
          "output_type": "stream",
          "name": "stdout",
          "text": [
            "4.0\n"
          ]
        }
      ]
    },
    {
      "cell_type": "markdown",
      "source": [
        " - **derivative with respect to a**"
      ],
      "metadata": {
        "id": "kGBLvYKEOBbf"
      }
    },
    {
      "cell_type": "code",
      "source": [
        "h = 0.0001\n",
        "\n",
        "\n",
        "a = 2.0\n",
        "b = -3.0\n",
        "c = 10.0\n",
        "\n",
        "d1 = a*b + c\n",
        "a += h         # a = a+h \n",
        "d2 = a*b + c\n",
        "\n",
        "print('d1',d1)\n",
        "print('d2',d2)\n",
        "print('slope',(d2-d1)/h)\n",
        "\n"
      ],
      "metadata": {
        "colab": {
          "base_uri": "https://localhost:8080/"
        },
        "id": "BtJAkDvaMVxP",
        "outputId": "edfdf307-dd2a-42a6-f68e-28bfa609ed58"
      },
      "execution_count": 8,
      "outputs": [
        {
          "output_type": "stream",
          "name": "stdout",
          "text": [
            "d1 4.0\n",
            "d2 3.999699999999999\n",
            "slope -3.000000000010772\n"
          ]
        }
      ]
    },
    {
      "cell_type": "markdown",
      "source": [
        "- **Derivative with repect to b**"
      ],
      "metadata": {
        "id": "Wjac_9y2OSQb"
      }
    },
    {
      "cell_type": "code",
      "source": [
        "h = 0.0001\n",
        "\n",
        "\n",
        "a = 2.0\n",
        "b = -3.0\n",
        "c = 10.0\n",
        "\n",
        "d1 = a*b + c\n",
        "b += h         # a = a+h \n",
        "d2 = a*b + c\n",
        "\n",
        "print('d1',d1)\n",
        "print('d2',d2)\n",
        "print('slope',(d2-d1)/h)\n",
        "\n"
      ],
      "metadata": {
        "colab": {
          "base_uri": "https://localhost:8080/"
        },
        "id": "MEkPxeE6OJou",
        "outputId": "795229c7-91d8-4758-acee-b665ec886cb9"
      },
      "execution_count": 9,
      "outputs": [
        {
          "output_type": "stream",
          "name": "stdout",
          "text": [
            "d1 4.0\n",
            "d2 4.0002\n",
            "slope 2.0000000000042206\n"
          ]
        }
      ]
    },
    {
      "cell_type": "code",
      "source": [
        "h = 0.0001\n",
        "\n",
        "\n",
        "a = 2.0\n",
        "b = -3.0\n",
        "c = 10.0\n",
        "\n",
        "d1 = a*b + c\n",
        "c += h         # a = a+h \n",
        "d2 = a*b + c\n",
        "\n",
        "print('d1',d1)\n",
        "print('d2',d2)\n",
        "print('slope',(d2-d1)/h)\n",
        "\n"
      ],
      "metadata": {
        "colab": {
          "base_uri": "https://localhost:8080/"
        },
        "id": "9u7f39tjNyDo",
        "outputId": "e7b059e4-bcab-4803-8d66-637d536ac2f9"
      },
      "execution_count": 10,
      "outputs": [
        {
          "output_type": "stream",
          "name": "stdout",
          "text": [
            "d1 4.0\n",
            "d2 4.0001\n",
            "slope 0.9999999999976694\n"
          ]
        }
      ]
    },
    {
      "cell_type": "code",
      "source": [
        "class Value:\n",
        "  \n",
        "  def __init__(self, data):\n",
        "    self.data = data\n",
        "  \n",
        "  def __repr__(self):\n",
        "    return f\"Value(data = {self.data})\"\n",
        "\n",
        "  def __add__(self, other):\n",
        "    out = Value(self.data + other.data)\n",
        "    return out\n",
        "    \n",
        "  def __mul__(self, other):\n",
        "    out = Value(self.data * other.data)\n",
        "    return out\n",
        "\n",
        "\n",
        "a = Value(2.0)\n",
        "b = Value(-3.0)\n",
        "c = Value(10.0)\n",
        "d= a*b +c\n",
        "d"
      ],
      "metadata": {
        "colab": {
          "base_uri": "https://localhost:8080/"
        },
        "id": "ejiARnEbOyAr",
        "outputId": "eaaf3097-fc1f-4f53-9ff6-e0dc399cc1d1"
      },
      "execution_count": 11,
      "outputs": [
        {
          "output_type": "execute_result",
          "data": {
            "text/plain": [
              "Value(data = 4.0)"
            ]
          },
          "metadata": {},
          "execution_count": 11
        }
      ]
    },
    {
      "cell_type": "markdown",
      "source": [
        "\n",
        "1. The __init__ method initializes a Value object with the provided data value and an optional _children and _op argument \n",
        "  - _children is a set of previous Value objects that contributed to the current value\n",
        "  - l _op parameter, which represents the operation performed to obtain the current value. The _op attribute is then set accordingly.\n",
        "2. The __add__ method overloads the + operator.\n",
        "\n",
        "  - defines the addition operation between two Value objects.\n",
        "  -\n",
        "\n",
        "3. The __mul__ method overloads the * operator \n",
        "  - defines the  multiplication operation between two Value objects."
      ],
      "metadata": {
        "id": "73kcrjn8hmaX"
      }
    },
    {
      "cell_type": "markdown",
      "source": [
        " - class : In oops a class is a blueprint for creating objects (instances) that sare common properties(attributes) and behavior (method).\n",
        "\n",
        "- __init__ is a special method known as constructor.\n",
        "\n",
        "- constructor used to initialize objects attributes.\n",
        "\n",
        "\n",
        "- __init__ is dunder method .\n",
        "\n",
        "- dunder method is a method that allows instances of a class to interact with builtin function and operators of language.\n",
        "- dunder comes from double underscore.\n",
        "\n",
        "\n",
        "![class_obj.drawio.png](data:image/png;base64,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)\n",
        "\n",
        "\n",
        "\n"
      ],
      "metadata": {
        "id": "RdUxCG6qkIW-"
      }
    },
    {
      "cell_type": "code",
      "source": [
        "class Value:\n",
        "  \n",
        "  def __init__(self, data,_children=(),_op='',label=''):\n",
        "    self.data = data\n",
        "    self.grad = 0.0             # initially we assume gradient is 0 ie changing the var will not effect output.\n",
        "    self._prev = set(_children)\n",
        "    self._op = _op \n",
        "    self.label = label \n",
        "  def __repr__(self):\n",
        "    return f\"Value(data = {self.data})\"\n",
        "\n",
        "  def __add__(self, other):\n",
        "    out = Value(self.data + other.data ,(self,other),'+')\n",
        "    return out\n",
        "    \n",
        "  def __mul__(self, other):\n",
        "    out = Value(self.data * other.data ,(self,other),'*')\n",
        "    return out\n",
        "\n",
        "\n",
        "a = Value(2.0 , label='a')\n",
        "b = Value(-3.0, label='b')\n",
        "c = Value(10.0 , label = 'c')\n",
        "e = a*b ; e.label = 'e'\n",
        "d= e +c ; d.label = 'd'\n",
        "f = Value(-2.0, label = 'f')\n",
        "L = d * f; L.label = 'L'\n",
        "L"
      ],
      "metadata": {
        "colab": {
          "base_uri": "https://localhost:8080/"
        },
        "id": "jmK-wkyIQmul",
        "outputId": "49f52e5c-6536-4cb4-d1ee-d3361ce3d17d"
      },
      "execution_count": 44,
      "outputs": [
        {
          "output_type": "execute_result",
          "data": {
            "text/plain": [
              "Value(data = -8.0)"
            ]
          },
          "metadata": {},
          "execution_count": 44
        }
      ]
    },
    {
      "cell_type": "code",
      "source": [
        "d.v"
      ],
      "metadata": {
        "id": "5QCPPbcTQUae",
        "colab": {
          "base_uri": "https://localhost:8080/"
        },
        "outputId": "9d0a02c6-fb0d-4e7f-a757-cc48cf749a99"
      },
      "execution_count": 13,
      "outputs": [
        {
          "output_type": "execute_result",
          "data": {
            "text/plain": [
              "{Value(data = -6.0), Value(data = 10.0)}"
            ]
          },
          "metadata": {},
          "execution_count": 13
        }
      ]
    },
    {
      "cell_type": "code",
      "source": [
        "d._prev"
      ],
      "metadata": {
        "colab": {
          "base_uri": "https://localhost:8080/"
        },
        "id": "-qxd36_tiGVC",
        "outputId": "d28b4a27-2842-4902-8a7f-e873915ddcdf"
      },
      "execution_count": 28,
      "outputs": [
        {
          "output_type": "execute_result",
          "data": {
            "text/plain": [
              "{Value(data = -6.0), Value(data = 10.0)}"
            ]
          },
          "metadata": {},
          "execution_count": 28
        }
      ]
    },
    {
      "cell_type": "code",
      "source": [
        "d._op"
      ],
      "metadata": {
        "colab": {
          "base_uri": "https://localhost:8080/",
          "height": 35
        },
        "id": "uJGlV8gDiHpF",
        "outputId": "857b5741-9b42-4bf7-c728-940b503ed44c"
      },
      "execution_count": 29,
      "outputs": [
        {
          "output_type": "execute_result",
          "data": {
            "text/plain": [
              "'+'"
            ],
            "application/vnd.google.colaboratory.intrinsic+json": {
              "type": "string"
            }
          },
          "metadata": {},
          "execution_count": 29
        }
      ]
    },
    {
      "cell_type": "code",
      "source": [
        "! pip install graphviz\n",
        "from graphviz import Digraph"
      ],
      "metadata": {
        "colab": {
          "base_uri": "https://localhost:8080/"
        },
        "id": "dR3HgupFwNcu",
        "outputId": "f4045bdd-9396-4c98-c67c-872a3d2c57d6"
      },
      "execution_count": 20,
      "outputs": [
        {
          "output_type": "stream",
          "name": "stdout",
          "text": [
            "Looking in indexes: https://pypi.org/simple, https://us-python.pkg.dev/colab-wheels/public/simple/\n",
            "Requirement already satisfied: graphviz in /usr/local/lib/python3.10/dist-packages (0.20.1)\n"
          ]
        }
      ]
    },
    {
      "cell_type": "code",
      "source": [
        "def trace(root):\n",
        "  nodes, edges = set(), set()\n",
        "  def build(v):\n",
        "      if v not in nodes:\n",
        "          nodes.add(v)\n",
        "          for child in v._prev:\n",
        "              edges.add((child, v))\n",
        "              build(child)\n",
        "  build(root)\n",
        "  return nodes, edges\n",
        "\n",
        "def draw_dot(root):\n",
        "    dot = Digraph(format='svg', graph_attr = {'rankdir': 'LR'})\n",
        "\n",
        "    nodes, edges = trace(root)\n",
        "    for n in nodes:\n",
        "        uid = str(id(n))\n",
        "        dot.node(name=uid , label = \"{ %s | data %.4f | grad %.4f }\" % (n.label,n.data,n.grad), shape='record')\n",
        "        if n._op:\n",
        "              dot.node(name = uid + n._op ,label=n._op)\n",
        "              dot.edge(uid + n._op, uid)\n",
        "\n",
        "  \n",
        "    for n1, n2 in edges:\n",
        "            dot.edge(str(id(n1)), str(id(n2)) + n2._op)\n",
        "    \n",
        "    return dot"
      ],
      "metadata": {
        "id": "IUthq5PkiIzM"
      },
      "execution_count": 46,
      "outputs": []
    },
    {
      "cell_type": "markdown",
      "source": [
        "-  rectangle shape is for value objects.\n",
        "\n",
        "- oval shape is for operations.which were applied on val .\n",
        "\n"
      ],
      "metadata": {
        "id": "fSD2iR10y_L3"
      }
    },
    {
      "cell_type": "code",
      "source": [
        "draw_dot(L)"
      ],
      "metadata": {
        "colab": {
          "base_uri": "https://localhost:8080/",
          "height": 212
        },
        "id": "E36kZePwwErx",
        "outputId": "f93d2297-2a01-4d81-c5a7-e085b84b2744"
      },
      "execution_count": 47,
      "outputs": [
        {
          "output_type": "execute_result",
          "data": {
            "image/svg+xml": "<?xml version=\"1.0\" encoding=\"UTF-8\" standalone=\"no\"?>\n<!DOCTYPE svg PUBLIC \"-//W3C//DTD SVG 1.1//EN\"\n \"http://www.w3.org/Graphics/SVG/1.1/DTD/svg11.dtd\">\n<!-- Generated by graphviz version 2.43.0 (0)\n -->\n<!-- Title: %3 Pages: 1 -->\n<svg width=\"1148pt\" height=\"128pt\"\n viewBox=\"0.00 0.00 1148.00 128.00\" xmlns=\"http://www.w3.org/2000/svg\" xmlns:xlink=\"http://www.w3.org/1999/xlink\">\n<g id=\"graph0\" class=\"graph\" transform=\"scale(1 1) rotate(0) translate(4 124)\">\n<title>%3</title>\n<polygon fill=\"white\" stroke=\"transparent\" points=\"-4,4 -4,-124 1144,-124 1144,4 -4,4\"/>\n<!-- 140177097290464 -->\n<g id=\"node1\" class=\"node\">\n<title>140177097290464</title>\n<polygon fill=\"none\" stroke=\"black\" points=\"948,-27.5 948,-63.5 1140,-63.5 1140,-27.5 948,-27.5\"/>\n<text text-anchor=\"middle\" x=\"960.5\" y=\"-41.8\" font-family=\"Times,serif\" font-size=\"14.00\">L</text>\n<polyline fill=\"none\" stroke=\"black\" points=\"973,-27.5 973,-63.5 \"/>\n<text text-anchor=\"middle\" x=\"1015.5\" y=\"-41.8\" font-family=\"Times,serif\" font-size=\"14.00\">data &#45;8.0000</text>\n<polyline fill=\"none\" stroke=\"black\" points=\"1058,-27.5 1058,-63.5 \"/>\n<text text-anchor=\"middle\" x=\"1099\" y=\"-41.8\" font-family=\"Times,serif\" font-size=\"14.00\">grad 0.0000</text>\n</g>\n<!-- 140177097290464* -->\n<g id=\"node2\" class=\"node\">\n<title>140177097290464*</title>\n<ellipse fill=\"none\" stroke=\"black\" cx=\"885\" cy=\"-45.5\" rx=\"27\" ry=\"18\"/>\n<text text-anchor=\"middle\" x=\"885\" y=\"-41.8\" font-family=\"Times,serif\" font-size=\"14.00\">*</text>\n</g>\n<!-- 140177097290464*&#45;&gt;140177097290464 -->\n<g id=\"edge1\" class=\"edge\">\n<title>140177097290464*&#45;&gt;140177097290464</title>\n<path fill=\"none\" stroke=\"black\" d=\"M912.28,-45.5C919.78,-45.5 928.44,-45.5 937.67,-45.5\"/>\n<polygon fill=\"black\" stroke=\"black\" points=\"937.87,-49 947.87,-45.5 937.87,-42 937.87,-49\"/>\n</g>\n<!-- 140177097290992 -->\n<g id=\"node3\" class=\"node\">\n<title>140177097290992</title>\n<polygon fill=\"none\" stroke=\"black\" points=\"316,-83.5 316,-119.5 508,-119.5 508,-83.5 316,-83.5\"/>\n<text text-anchor=\"middle\" x=\"327.5\" y=\"-97.8\" font-family=\"Times,serif\" font-size=\"14.00\">c</text>\n<polyline fill=\"none\" stroke=\"black\" points=\"339,-83.5 339,-119.5 \"/>\n<text text-anchor=\"middle\" x=\"382.5\" y=\"-97.8\" font-family=\"Times,serif\" font-size=\"14.00\">data 10.0000</text>\n<polyline fill=\"none\" stroke=\"black\" points=\"426,-83.5 426,-119.5 \"/>\n<text text-anchor=\"middle\" x=\"467\" y=\"-97.8\" font-family=\"Times,serif\" font-size=\"14.00\">grad 0.0000</text>\n</g>\n<!-- 140177097290128+ -->\n<g id=\"node5\" class=\"node\">\n<title>140177097290128+</title>\n<ellipse fill=\"none\" stroke=\"black\" cx=\"571\" cy=\"-73.5\" rx=\"27\" ry=\"18\"/>\n<text text-anchor=\"middle\" x=\"571\" y=\"-69.8\" font-family=\"Times,serif\" font-size=\"14.00\">+</text>\n</g>\n<!-- 140177097290992&#45;&gt;140177097290128+ -->\n<g id=\"edge5\" class=\"edge\">\n<title>140177097290992&#45;&gt;140177097290128+</title>\n<path fill=\"none\" stroke=\"black\" d=\"M508.4,-84.49C517.69,-82.83 526.64,-81.23 534.71,-79.79\"/>\n<polygon fill=\"black\" stroke=\"black\" points=\"535.53,-83.2 544.76,-78 534.31,-76.31 535.53,-83.2\"/>\n</g>\n<!-- 140177097290128 -->\n<g id=\"node4\" class=\"node\">\n<title>140177097290128</title>\n<polygon fill=\"none\" stroke=\"black\" points=\"635.5,-55.5 635.5,-91.5 820.5,-91.5 820.5,-55.5 635.5,-55.5\"/>\n<text text-anchor=\"middle\" x=\"647\" y=\"-69.8\" font-family=\"Times,serif\" font-size=\"14.00\">d</text>\n<polyline fill=\"none\" stroke=\"black\" points=\"658.5,-55.5 658.5,-91.5 \"/>\n<text text-anchor=\"middle\" x=\"698.5\" y=\"-69.8\" font-family=\"Times,serif\" font-size=\"14.00\">data 4.0000</text>\n<polyline fill=\"none\" stroke=\"black\" points=\"738.5,-55.5 738.5,-91.5 \"/>\n<text text-anchor=\"middle\" x=\"779.5\" y=\"-69.8\" font-family=\"Times,serif\" font-size=\"14.00\">grad 0.0000</text>\n</g>\n<!-- 140177097290128&#45;&gt;140177097290464* -->\n<g id=\"edge4\" class=\"edge\">\n<title>140177097290128&#45;&gt;140177097290464*</title>\n<path fill=\"none\" stroke=\"black\" d=\"M820.51,-56.97C830.48,-55.17 840.13,-53.42 848.77,-51.86\"/>\n<polygon fill=\"black\" stroke=\"black\" points=\"849.55,-55.28 858.77,-50.06 848.3,-48.39 849.55,-55.28\"/>\n</g>\n<!-- 140177097290128+&#45;&gt;140177097290128 -->\n<g id=\"edge2\" class=\"edge\">\n<title>140177097290128+&#45;&gt;140177097290128</title>\n<path fill=\"none\" stroke=\"black\" d=\"M598.29,-73.5C606.26,-73.5 615.54,-73.5 625.39,-73.5\"/>\n<polygon fill=\"black\" stroke=\"black\" points=\"625.41,-77 635.41,-73.5 625.41,-70 625.41,-77\"/>\n</g>\n<!-- 140177097292192 -->\n<g id=\"node6\" class=\"node\">\n<title>140177097292192</title>\n<polygon fill=\"none\" stroke=\"black\" points=\"634,-0.5 634,-36.5 822,-36.5 822,-0.5 634,-0.5\"/>\n<text text-anchor=\"middle\" x=\"644.5\" y=\"-14.8\" font-family=\"Times,serif\" font-size=\"14.00\">f</text>\n<polyline fill=\"none\" stroke=\"black\" points=\"655,-0.5 655,-36.5 \"/>\n<text text-anchor=\"middle\" x=\"697.5\" y=\"-14.8\" font-family=\"Times,serif\" font-size=\"14.00\">data &#45;2.0000</text>\n<polyline fill=\"none\" stroke=\"black\" points=\"740,-0.5 740,-36.5 \"/>\n<text text-anchor=\"middle\" x=\"781\" y=\"-14.8\" font-family=\"Times,serif\" font-size=\"14.00\">grad 0.0000</text>\n</g>\n<!-- 140177097292192&#45;&gt;140177097290464* -->\n<g id=\"edge8\" class=\"edge\">\n<title>140177097292192&#45;&gt;140177097290464*</title>\n<path fill=\"none\" stroke=\"black\" d=\"M822.29,-34.75C831.57,-36.37 840.52,-37.93 848.61,-39.33\"/>\n<polygon fill=\"black\" stroke=\"black\" points=\"848.22,-42.82 858.68,-41.09 849.42,-35.92 848.22,-42.82\"/>\n</g>\n<!-- 140177097290176 -->\n<g id=\"node7\" class=\"node\">\n<title>140177097290176</title>\n<polygon fill=\"none\" stroke=\"black\" points=\"2.5,-56.5 2.5,-92.5 187.5,-92.5 187.5,-56.5 2.5,-56.5\"/>\n<text text-anchor=\"middle\" x=\"14\" y=\"-70.8\" font-family=\"Times,serif\" font-size=\"14.00\">a</text>\n<polyline fill=\"none\" stroke=\"black\" points=\"25.5,-56.5 25.5,-92.5 \"/>\n<text text-anchor=\"middle\" x=\"65.5\" y=\"-70.8\" font-family=\"Times,serif\" font-size=\"14.00\">data 2.0000</text>\n<polyline fill=\"none\" stroke=\"black\" points=\"105.5,-56.5 105.5,-92.5 \"/>\n<text text-anchor=\"middle\" x=\"146.5\" y=\"-70.8\" font-family=\"Times,serif\" font-size=\"14.00\">grad 0.0000</text>\n</g>\n<!-- 140177097286096* -->\n<g id=\"node9\" class=\"node\">\n<title>140177097286096*</title>\n<ellipse fill=\"none\" stroke=\"black\" cx=\"253\" cy=\"-46.5\" rx=\"27\" ry=\"18\"/>\n<text text-anchor=\"middle\" x=\"253\" y=\"-42.8\" font-family=\"Times,serif\" font-size=\"14.00\">*</text>\n</g>\n<!-- 140177097290176&#45;&gt;140177097286096* -->\n<g id=\"edge9\" class=\"edge\">\n<title>140177097290176&#45;&gt;140177097286096*</title>\n<path fill=\"none\" stroke=\"black\" d=\"M187.65,-58.05C197.94,-56.2 207.91,-54.41 216.81,-52.82\"/>\n<polygon fill=\"black\" stroke=\"black\" points=\"217.48,-56.25 226.71,-51.04 216.25,-49.36 217.48,-56.25\"/>\n</g>\n<!-- 140177097286096 -->\n<g id=\"node8\" class=\"node\">\n<title>140177097286096</title>\n<polygon fill=\"none\" stroke=\"black\" points=\"317,-28.5 317,-64.5 507,-64.5 507,-28.5 317,-28.5\"/>\n<text text-anchor=\"middle\" x=\"328.5\" y=\"-42.8\" font-family=\"Times,serif\" font-size=\"14.00\">e</text>\n<polyline fill=\"none\" stroke=\"black\" points=\"340,-28.5 340,-64.5 \"/>\n<text text-anchor=\"middle\" x=\"382.5\" y=\"-42.8\" font-family=\"Times,serif\" font-size=\"14.00\">data &#45;6.0000</text>\n<polyline fill=\"none\" stroke=\"black\" points=\"425,-28.5 425,-64.5 \"/>\n<text text-anchor=\"middle\" x=\"466\" y=\"-42.8\" font-family=\"Times,serif\" font-size=\"14.00\">grad 0.0000</text>\n</g>\n<!-- 140177097286096&#45;&gt;140177097290128+ -->\n<g id=\"edge6\" class=\"edge\">\n<title>140177097286096&#45;&gt;140177097290128+</title>\n<path fill=\"none\" stroke=\"black\" d=\"M507.05,-62.67C516.78,-64.35 526.18,-65.96 534.62,-67.42\"/>\n<polygon fill=\"black\" stroke=\"black\" points=\"534.3,-70.91 544.75,-69.16 535.49,-64.01 534.3,-70.91\"/>\n</g>\n<!-- 140177097286096*&#45;&gt;140177097286096 -->\n<g id=\"edge3\" class=\"edge\">\n<title>140177097286096*&#45;&gt;140177097286096</title>\n<path fill=\"none\" stroke=\"black\" d=\"M280.28,-46.5C288.05,-46.5 297.08,-46.5 306.68,-46.5\"/>\n<polygon fill=\"black\" stroke=\"black\" points=\"306.88,-50 316.88,-46.5 306.88,-43 306.88,-50\"/>\n</g>\n<!-- 140177097291232 -->\n<g id=\"node10\" class=\"node\">\n<title>140177097291232</title>\n<polygon fill=\"none\" stroke=\"black\" points=\"0,-1.5 0,-37.5 190,-37.5 190,-1.5 0,-1.5\"/>\n<text text-anchor=\"middle\" x=\"11.5\" y=\"-15.8\" font-family=\"Times,serif\" font-size=\"14.00\">b</text>\n<polyline fill=\"none\" stroke=\"black\" points=\"23,-1.5 23,-37.5 \"/>\n<text text-anchor=\"middle\" x=\"65.5\" y=\"-15.8\" font-family=\"Times,serif\" font-size=\"14.00\">data &#45;3.0000</text>\n<polyline fill=\"none\" stroke=\"black\" points=\"108,-1.5 108,-37.5 \"/>\n<text text-anchor=\"middle\" x=\"149\" y=\"-15.8\" font-family=\"Times,serif\" font-size=\"14.00\">grad 0.0000</text>\n</g>\n<!-- 140177097291232&#45;&gt;140177097286096* -->\n<g id=\"edge7\" class=\"edge\">\n<title>140177097291232&#45;&gt;140177097286096*</title>\n<path fill=\"none\" stroke=\"black\" d=\"M190.34,-35.83C199.62,-37.44 208.58,-38.99 216.66,-40.38\"/>\n<polygon fill=\"black\" stroke=\"black\" points=\"216.27,-43.87 226.72,-42.12 217.46,-36.97 216.27,-43.87\"/>\n</g>\n</g>\n</svg>\n",
            "text/plain": [
              "<graphviz.graphs.Digraph at 0x7f7d861d4bb0>"
            ]
          },
          "metadata": {},
          "execution_count": 47
        }
      ]
    },
    {
      "cell_type": "markdown",
      "source": [
        "- We build a mathematical expression .\n",
        "- "
      ],
      "metadata": {
        "id": "MuPblHMqwZ4I"
      }
    },
    {
      "cell_type": "code",
      "source": [
        "L.grad= 1.0"
      ],
      "metadata": {
        "id": "KjGmQw-93vRZ"
      },
      "execution_count": null,
      "outputs": []
    }
  ]
}